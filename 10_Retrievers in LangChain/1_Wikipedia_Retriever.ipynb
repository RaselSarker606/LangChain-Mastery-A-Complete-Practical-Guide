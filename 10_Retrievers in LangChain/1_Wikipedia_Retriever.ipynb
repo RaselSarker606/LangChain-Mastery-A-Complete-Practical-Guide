{
  "nbformat": 4,
  "nbformat_minor": 0,
  "metadata": {
    "colab": {
      "provenance": []
    },
    "kernelspec": {
      "name": "python3",
      "display_name": "Python 3"
    },
    "language_info": {
      "name": "python"
    }
  },
  "cells": [
    {
      "cell_type": "code",
      "source": [
        "!pip install langchain-community\n",
        "!pip install wikipedia"
      ],
      "metadata": {
        "colab": {
          "base_uri": "https://localhost:8080/"
        },
        "id": "NYMBsHc-sHD6",
        "outputId": "08fd6cc2-86b6-4f20-a833-c9f9bc77ff8a"
      },
      "execution_count": 7,
      "outputs": [
        {
          "output_type": "stream",
          "name": "stdout",
          "text": [
            "Requirement already satisfied: langchain-community in /usr/local/lib/python3.11/dist-packages (0.3.24)\n",
            "Requirement already satisfied: langchain-core<1.0.0,>=0.3.59 in /usr/local/lib/python3.11/dist-packages (from langchain-community) (0.3.63)\n",
            "Requirement already satisfied: langchain<1.0.0,>=0.3.25 in /usr/local/lib/python3.11/dist-packages (from langchain-community) (0.3.25)\n",
            "Requirement already satisfied: SQLAlchemy<3,>=1.4 in /usr/local/lib/python3.11/dist-packages (from langchain-community) (2.0.41)\n",
            "Requirement already satisfied: requests<3,>=2 in /usr/local/lib/python3.11/dist-packages (from langchain-community) (2.32.3)\n",
            "Requirement already satisfied: PyYAML>=5.3 in /usr/local/lib/python3.11/dist-packages (from langchain-community) (6.0.2)\n",
            "Requirement already satisfied: aiohttp<4.0.0,>=3.8.3 in /usr/local/lib/python3.11/dist-packages (from langchain-community) (3.11.15)\n",
            "Requirement already satisfied: tenacity!=8.4.0,<10,>=8.1.0 in /usr/local/lib/python3.11/dist-packages (from langchain-community) (9.1.2)\n",
            "Requirement already satisfied: dataclasses-json<0.7,>=0.5.7 in /usr/local/lib/python3.11/dist-packages (from langchain-community) (0.6.7)\n",
            "Requirement already satisfied: pydantic-settings<3.0.0,>=2.4.0 in /usr/local/lib/python3.11/dist-packages (from langchain-community) (2.9.1)\n",
            "Requirement already satisfied: langsmith<0.4,>=0.1.125 in /usr/local/lib/python3.11/dist-packages (from langchain-community) (0.3.44)\n",
            "Requirement already satisfied: httpx-sse<1.0.0,>=0.4.0 in /usr/local/lib/python3.11/dist-packages (from langchain-community) (0.4.0)\n",
            "Requirement already satisfied: numpy>=1.26.2 in /usr/local/lib/python3.11/dist-packages (from langchain-community) (2.0.2)\n",
            "Requirement already satisfied: aiohappyeyeballs>=2.3.0 in /usr/local/lib/python3.11/dist-packages (from aiohttp<4.0.0,>=3.8.3->langchain-community) (2.6.1)\n",
            "Requirement already satisfied: aiosignal>=1.1.2 in /usr/local/lib/python3.11/dist-packages (from aiohttp<4.0.0,>=3.8.3->langchain-community) (1.3.2)\n",
            "Requirement already satisfied: attrs>=17.3.0 in /usr/local/lib/python3.11/dist-packages (from aiohttp<4.0.0,>=3.8.3->langchain-community) (25.3.0)\n",
            "Requirement already satisfied: frozenlist>=1.1.1 in /usr/local/lib/python3.11/dist-packages (from aiohttp<4.0.0,>=3.8.3->langchain-community) (1.6.0)\n",
            "Requirement already satisfied: multidict<7.0,>=4.5 in /usr/local/lib/python3.11/dist-packages (from aiohttp<4.0.0,>=3.8.3->langchain-community) (6.4.4)\n",
            "Requirement already satisfied: propcache>=0.2.0 in /usr/local/lib/python3.11/dist-packages (from aiohttp<4.0.0,>=3.8.3->langchain-community) (0.3.1)\n",
            "Requirement already satisfied: yarl<2.0,>=1.17.0 in /usr/local/lib/python3.11/dist-packages (from aiohttp<4.0.0,>=3.8.3->langchain-community) (1.20.0)\n",
            "Requirement already satisfied: marshmallow<4.0.0,>=3.18.0 in /usr/local/lib/python3.11/dist-packages (from dataclasses-json<0.7,>=0.5.7->langchain-community) (3.26.1)\n",
            "Requirement already satisfied: typing-inspect<1,>=0.4.0 in /usr/local/lib/python3.11/dist-packages (from dataclasses-json<0.7,>=0.5.7->langchain-community) (0.9.0)\n",
            "Requirement already satisfied: langchain-text-splitters<1.0.0,>=0.3.8 in /usr/local/lib/python3.11/dist-packages (from langchain<1.0.0,>=0.3.25->langchain-community) (0.3.8)\n",
            "Requirement already satisfied: pydantic<3.0.0,>=2.7.4 in /usr/local/lib/python3.11/dist-packages (from langchain<1.0.0,>=0.3.25->langchain-community) (2.11.5)\n",
            "Requirement already satisfied: jsonpatch<2.0,>=1.33 in /usr/local/lib/python3.11/dist-packages (from langchain-core<1.0.0,>=0.3.59->langchain-community) (1.33)\n",
            "Requirement already satisfied: packaging<25,>=23.2 in /usr/local/lib/python3.11/dist-packages (from langchain-core<1.0.0,>=0.3.59->langchain-community) (24.2)\n",
            "Requirement already satisfied: typing-extensions>=4.7 in /usr/local/lib/python3.11/dist-packages (from langchain-core<1.0.0,>=0.3.59->langchain-community) (4.14.0)\n",
            "Requirement already satisfied: httpx<1,>=0.23.0 in /usr/local/lib/python3.11/dist-packages (from langsmith<0.4,>=0.1.125->langchain-community) (0.28.1)\n",
            "Requirement already satisfied: orjson<4.0.0,>=3.9.14 in /usr/local/lib/python3.11/dist-packages (from langsmith<0.4,>=0.1.125->langchain-community) (3.10.18)\n",
            "Requirement already satisfied: requests-toolbelt<2.0.0,>=1.0.0 in /usr/local/lib/python3.11/dist-packages (from langsmith<0.4,>=0.1.125->langchain-community) (1.0.0)\n",
            "Requirement already satisfied: zstandard<0.24.0,>=0.23.0 in /usr/local/lib/python3.11/dist-packages (from langsmith<0.4,>=0.1.125->langchain-community) (0.23.0)\n",
            "Requirement already satisfied: python-dotenv>=0.21.0 in /usr/local/lib/python3.11/dist-packages (from pydantic-settings<3.0.0,>=2.4.0->langchain-community) (1.1.0)\n",
            "Requirement already satisfied: typing-inspection>=0.4.0 in /usr/local/lib/python3.11/dist-packages (from pydantic-settings<3.0.0,>=2.4.0->langchain-community) (0.4.1)\n",
            "Requirement already satisfied: charset-normalizer<4,>=2 in /usr/local/lib/python3.11/dist-packages (from requests<3,>=2->langchain-community) (3.4.2)\n",
            "Requirement already satisfied: idna<4,>=2.5 in /usr/local/lib/python3.11/dist-packages (from requests<3,>=2->langchain-community) (3.10)\n",
            "Requirement already satisfied: urllib3<3,>=1.21.1 in /usr/local/lib/python3.11/dist-packages (from requests<3,>=2->langchain-community) (2.4.0)\n",
            "Requirement already satisfied: certifi>=2017.4.17 in /usr/local/lib/python3.11/dist-packages (from requests<3,>=2->langchain-community) (2025.4.26)\n",
            "Requirement already satisfied: greenlet>=1 in /usr/local/lib/python3.11/dist-packages (from SQLAlchemy<3,>=1.4->langchain-community) (3.2.2)\n",
            "Requirement already satisfied: anyio in /usr/local/lib/python3.11/dist-packages (from httpx<1,>=0.23.0->langsmith<0.4,>=0.1.125->langchain-community) (4.9.0)\n",
            "Requirement already satisfied: httpcore==1.* in /usr/local/lib/python3.11/dist-packages (from httpx<1,>=0.23.0->langsmith<0.4,>=0.1.125->langchain-community) (1.0.9)\n",
            "Requirement already satisfied: h11>=0.16 in /usr/local/lib/python3.11/dist-packages (from httpcore==1.*->httpx<1,>=0.23.0->langsmith<0.4,>=0.1.125->langchain-community) (0.16.0)\n",
            "Requirement already satisfied: jsonpointer>=1.9 in /usr/local/lib/python3.11/dist-packages (from jsonpatch<2.0,>=1.33->langchain-core<1.0.0,>=0.3.59->langchain-community) (3.0.0)\n",
            "Requirement already satisfied: annotated-types>=0.6.0 in /usr/local/lib/python3.11/dist-packages (from pydantic<3.0.0,>=2.7.4->langchain<1.0.0,>=0.3.25->langchain-community) (0.7.0)\n",
            "Requirement already satisfied: pydantic-core==2.33.2 in /usr/local/lib/python3.11/dist-packages (from pydantic<3.0.0,>=2.7.4->langchain<1.0.0,>=0.3.25->langchain-community) (2.33.2)\n",
            "Requirement already satisfied: mypy-extensions>=0.3.0 in /usr/local/lib/python3.11/dist-packages (from typing-inspect<1,>=0.4.0->dataclasses-json<0.7,>=0.5.7->langchain-community) (1.1.0)\n",
            "Requirement already satisfied: sniffio>=1.1 in /usr/local/lib/python3.11/dist-packages (from anyio->httpx<1,>=0.23.0->langsmith<0.4,>=0.1.125->langchain-community) (1.3.1)\n",
            "Collecting wikipedia\n",
            "  Downloading wikipedia-1.4.0.tar.gz (27 kB)\n",
            "  Preparing metadata (setup.py) ... \u001b[?25l\u001b[?25hdone\n",
            "Requirement already satisfied: beautifulsoup4 in /usr/local/lib/python3.11/dist-packages (from wikipedia) (4.13.4)\n",
            "Requirement already satisfied: requests<3.0.0,>=2.0.0 in /usr/local/lib/python3.11/dist-packages (from wikipedia) (2.32.3)\n",
            "Requirement already satisfied: charset-normalizer<4,>=2 in /usr/local/lib/python3.11/dist-packages (from requests<3.0.0,>=2.0.0->wikipedia) (3.4.2)\n",
            "Requirement already satisfied: idna<4,>=2.5 in /usr/local/lib/python3.11/dist-packages (from requests<3.0.0,>=2.0.0->wikipedia) (3.10)\n",
            "Requirement already satisfied: urllib3<3,>=1.21.1 in /usr/local/lib/python3.11/dist-packages (from requests<3.0.0,>=2.0.0->wikipedia) (2.4.0)\n",
            "Requirement already satisfied: certifi>=2017.4.17 in /usr/local/lib/python3.11/dist-packages (from requests<3.0.0,>=2.0.0->wikipedia) (2025.4.26)\n",
            "Requirement already satisfied: soupsieve>1.2 in /usr/local/lib/python3.11/dist-packages (from beautifulsoup4->wikipedia) (2.7)\n",
            "Requirement already satisfied: typing-extensions>=4.0.0 in /usr/local/lib/python3.11/dist-packages (from beautifulsoup4->wikipedia) (4.14.0)\n",
            "Building wheels for collected packages: wikipedia\n",
            "  Building wheel for wikipedia (setup.py) ... \u001b[?25l\u001b[?25hdone\n",
            "  Created wheel for wikipedia: filename=wikipedia-1.4.0-py3-none-any.whl size=11678 sha256=5e9e211f69804c83d61b1a54abb1291f3d1e04ed84f3a9d55b3dbba7796b35eb\n",
            "  Stored in directory: /root/.cache/pip/wheels/8f/ab/cb/45ccc40522d3a1c41e1d2ad53b8f33a62f394011ec38cd71c6\n",
            "Successfully built wikipedia\n",
            "Installing collected packages: wikipedia\n",
            "Successfully installed wikipedia-1.4.0\n"
          ]
        }
      ]
    },
    {
      "cell_type": "markdown",
      "source": [
        "Wikipedia Retriever"
      ],
      "metadata": {
        "id": "DlpV2zhxjcFk"
      }
    },
    {
      "cell_type": "code",
      "source": [
        "from langchain_community.retrievers import WikipediaRetriever"
      ],
      "metadata": {
        "id": "D2BvkJXGjJ97"
      },
      "execution_count": 8,
      "outputs": []
    },
    {
      "cell_type": "code",
      "source": [
        "# Initialize the retriever (optional: set language and top_k)\n",
        "retriever = WikipediaRetriever(top_k_results=2, lang=\"en\")"
      ],
      "metadata": {
        "id": "earoD-8djuqJ"
      },
      "execution_count": 9,
      "outputs": []
    },
    {
      "cell_type": "code",
      "source": [
        "# Define your query\n",
        "query = \"The 1971 history of Bangladesh\"\n",
        "\n",
        "# Get relevant Wikipedia documents\n",
        "docs = retriever.invoke(query)"
      ],
      "metadata": {
        "id": "qiCg98HbkEeu"
      },
      "execution_count": 13,
      "outputs": []
    },
    {
      "cell_type": "code",
      "source": [
        "docs"
      ],
      "metadata": {
        "colab": {
          "base_uri": "https://localhost:8080/"
        },
        "id": "dYr2qYeFkgZN",
        "outputId": "d62ac5b9-5b1a-4232-f6c9-a9b34f913a34"
      },
      "execution_count": 14,
      "outputs": [
        {
          "output_type": "execute_result",
          "data": {
            "text/plain": [
              "[Document(metadata={'title': 'History of Bangladesh (1971–present)', 'summary': 'The history of Bangladesh (1971–present) refers to the period after the independence of Bangladesh from Pakistan.\\n\\n', 'source': 'https://en.wikipedia.org/wiki/History_of_Bangladesh_(1971%E2%80%93present)'}, page_content=\"The history of Bangladesh (1971–present) refers to the period after the independence of Bangladesh from Pakistan.\\n\\n\\n== 1972–80: Post-independence era ==\\n\\n\\n=== Sheikh Mujibur Rahman administration ===\\n\\nUpon his release on 10 January 1972, Sheikh Mujibur Rahman briefly assumed the provisional presidency and later took office as the prime minister, heading all organs of government and decision-making. The politicians elected in 1970 formed the provisional parliament of the new state. The Mukti Bahini and other militias amalgamated to form a new Bangladeshi army to which Indian forces transferred control on 17 March. The government faced serious challenges, which including the rehabilitation of millions of people displaced in 1971, organising the supply of food, health aids and other necessities. The effects of the 1970 cyclone had not worn off, and the state's economy had immensely deteriorated by the conflict.\\nMujib helped Bangladesh enter into the United Nations and the Non-Aligned Movement. He travelled to the United States, the United Kingdom and other European nations to obtain humanitarian and developmental assistance for the nation. He signed a treaty of friendship with India, which pledged extensive economic and humanitarian assistance and began training Bangladesh's security forces and government personnel. Mujib forged a close friendship with Indira Gandhi, strongly praising India's decision to intercede, and professed admiration and friendship for India. Major efforts were launched to rehabilitate an estimated 10 million refugees. The economy began recovering and a famine was prevented. A constitution was proclaimed in 1972 and elections were held, which resulted in Mujib and his party gaining power with an absolute majority. He further outlined state programmes to expand primary education, sanitation, food, healthcare, water and electric supply across the country. A five-year plan released in 1973 focused state investments into agriculture, rural infrastructure and cottage industries.\\nFrom March 1974 to December 1974, one of the deadliest famines of the 20th century occurred in Bangladesh, when it is estimated that anywhere between 27,000 and 1,500,000 people perished from starvation. The first widespread reports of this famine started to emerge in the March of 1974 and the price of rice climbed significantly, the Rangpur District of Bangladesh experienced the first signs of this famine.\\n\\n\\n=== Left wing insurgency ===\\nAt the height of Sheikh Mujib's power, left wing insurgents, organised by Jatiyo Samajtantrik Dal's armed wing Gonobahini fought against the government of Sheikh Mujibur Rahman, to establish a Marxist government.\\nThe government responded by forming the Jatiya Rakkhi Bahini which began a campaign of brutal human rights abuses against the general populace, including the force became involved in numerous charges of human rights abuse including political killings, shooting by death squads, and rape. Members of Jatiya Rakkhi Bahini were granted immunity from prosecution and other legal proceedings.\\n\\n\\n=== Bangladesh Krishak Sramik Awami League (BAKSAL) ===\\nAccording to Abdur Razzaq, the 1974 famine profoundly affected Mujib's views on governance, while political unrest gave rise to increasing violence. During the famine, 70,000 people were reported as dead (Note: Reports vary). In response, he began increasing his powers. On 25 January 1975, Mujib declared a state of emergency and his political supporters approved a constitutional amendment banning all opposition political parties. Mujib assumed presidency and was given extraordinary powers. His political supporters amalgamated to form the only legalised political party, the Bangladesh Krishak Sramik Awami League, commonly known by its initials—BAKSAL. The party identified itself with the rural masses, farmers and labourers and took control of government machinery. It also launched major socialist programmes. Using government forces and a militia of supporters\"),\n",
              " Document(metadata={'title': 'Bangladesh genocide', 'summary': 'The Bangladesh genocide was the ethnic cleansing of Bengalis residing in East Pakistan (now Bangladesh) during the Bangladesh Liberation War, perpetrated by the Pakistan Army and the Razakars. It began on 25 March 1971, as Operation Searchlight was launched by West Pakistan (now Pakistan) to militarily subdue the Bengali population of East Pakistan; the Bengalis comprised the demographic majority and had been calling for independence from the Pakistani state. Seeking to curtail the Bengali self-determination movement, erstwhile Pakistani president Yahya Khan approved a large-scale military deployment, and in the nine-month-long conflict that ensued, Pakistani soldiers and local pro-Pakistan militias killed between 300,000 and 3,000,000 Bengalis and raped between 200,000 and 400,000 Bengali women in a systematic campaign of mass murder and genocidal sexual violence. \\nWest Pakistanis in particular were shown by the news that the operation was carried out because of the \\'rebellion by the East Pakistanis\\' and many activities at the time were hidden from them, including rape and ethnic cleansing of East Pakistanis by the Pakistani military. In their investigation of the genocide, the Geneva-based International Commission of Jurists concluded that Pakistan\\'s campaign also involved the attempt to exterminate or forcibly remove a significant portion of the country\\'s Hindu populace. Although the majority of the victims were Bengali Muslims, Hindus were especially targeted. The West Pakistani government, which had implemented discriminatory legislation in East Pakistan, asserted that Hindus were behind the Mukti Bahini (Bengali resistance fighters) revolt and that resolving the local \"Hindu problem\" would end the conflict—Khan\\'s government and the Pakistani elite thus regarded the crackdown as a strategic policy. Genocidal rhetoric accompanied the campaign: Pakistani men believed that the sacrifice of Hindus was needed to fix the national malaise. In the countryside, Pakistan Army moved through villages and specifically asked for places where Hindus lived before burning them down. Hindus were identified by checking circumcision or by demanding the recitation of Muslim prayers. This also resulted in the migration of around eight million East Pakistani refugees into India, 80–90% of whom were Hindus.\\nBoth Muslim and Hindu women were targeted for rape. West Pakistani men wanted to cleanse a nation corrupted by the presence of Hindus and believed that the sacrifice of Hindu women was needed; Bengali women were thus viewed as Hindu or Hindu-like.\\nPakistan\\'s activities during the Bangladesh Liberation War served as a catalyst for India\\'s military intervention in support of the Mukti Bahini, triggering the Indo-Pakistani War of 1971. The conflict and the genocide formally ended on 16 December 1971, when the joint forces of Bangladesh and India received the Pakistani Instrument of Surrender. As a result of the conflict, approximately 10 million East Bengali refugees fled to Indian territory while up to 30 million people were internally displaced out of the 70 million total population of East Pakistan. There was also ethnic violence between the Bengali majority and the Bihari minority during the conflict; between 1,000 and 150,000 Biharis were killed in reprisal attacks by Bengali militias and mobs, as Bihari collaboration with the West Pakistani campaign had led to further anti-Bihari sentiment. Since Pakistan\\'s defeat and Bangladesh\\'s independence, the title \"Stranded Pakistanis in Bangladesh\" has commonly been used to refer to the Bihari community, which was denied the right to hold Bangladeshi citizenship until 2008.\\nAllegations of a genocide in Bangladesh were rejected by most UN member states at the time and rarely appear in textbooks and academic sources on genocide studies.\\n\\n', 'source': 'https://en.wikipedia.org/wiki/Bangladesh_genocide'}, page_content='The Bangladesh genocide was the ethnic cleansing of Bengalis residing in East Pakistan (now Bangladesh) during the Bangladesh Liberation War, perpetrated by the Pakistan Army and the Razakars. It began on 25 March 1971, as Operation Searchlight was launched by West Pakistan (now Pakistan) to militarily subdue the Bengali population of East Pakistan; the Bengalis comprised the demographic majority and had been calling for independence from the Pakistani state. Seeking to curtail the Bengali self-determination movement, erstwhile Pakistani president Yahya Khan approved a large-scale military deployment, and in the nine-month-long conflict that ensued, Pakistani soldiers and local pro-Pakistan militias killed between 300,000 and 3,000,000 Bengalis and raped between 200,000 and 400,000 Bengali women in a systematic campaign of mass murder and genocidal sexual violence. \\nWest Pakistanis in particular were shown by the news that the operation was carried out because of the \\'rebellion by the East Pakistanis\\' and many activities at the time were hidden from them, including rape and ethnic cleansing of East Pakistanis by the Pakistani military. In their investigation of the genocide, the Geneva-based International Commission of Jurists concluded that Pakistan\\'s campaign also involved the attempt to exterminate or forcibly remove a significant portion of the country\\'s Hindu populace. Although the majority of the victims were Bengali Muslims, Hindus were especially targeted. The West Pakistani government, which had implemented discriminatory legislation in East Pakistan, asserted that Hindus were behind the Mukti Bahini (Bengali resistance fighters) revolt and that resolving the local \"Hindu problem\" would end the conflict—Khan\\'s government and the Pakistani elite thus regarded the crackdown as a strategic policy. Genocidal rhetoric accompanied the campaign: Pakistani men believed that the sacrifice of Hindus was needed to fix the national malaise. In the countryside, Pakistan Army moved through villages and specifically asked for places where Hindus lived before burning them down. Hindus were identified by checking circumcision or by demanding the recitation of Muslim prayers. This also resulted in the migration of around eight million East Pakistani refugees into India, 80–90% of whom were Hindus.\\nBoth Muslim and Hindu women were targeted for rape. West Pakistani men wanted to cleanse a nation corrupted by the presence of Hindus and believed that the sacrifice of Hindu women was needed; Bengali women were thus viewed as Hindu or Hindu-like.\\nPakistan\\'s activities during the Bangladesh Liberation War served as a catalyst for India\\'s military intervention in support of the Mukti Bahini, triggering the Indo-Pakistani War of 1971. The conflict and the genocide formally ended on 16 December 1971, when the joint forces of Bangladesh and India received the Pakistani Instrument of Surrender. As a result of the conflict, approximately 10 million East Bengali refugees fled to Indian territory while up to 30 million people were internally displaced out of the 70 million total population of East Pakistan. There was also ethnic violence between the Bengali majority and the Bihari minority during the conflict; between 1,000 and 150,000 Biharis were killed in reprisal attacks by Bengali militias and mobs, as Bihari collaboration with the West Pakistani campaign had led to further anti-Bihari sentiment. Since Pakistan\\'s defeat and Bangladesh\\'s independence, the title \"Stranded Pakistanis in Bangladesh\" has commonly been used to refer to the Bihari community, which was denied the right to hold Bangladeshi citizenship until 2008.\\nAllegations of a genocide in Bangladesh were rejected by most UN member states at the time and rarely appear in textbooks and academic sources on genocide studies.\\n\\n\\n== Background ==\\n\\n\\n=== West Pakistan and East Pakistan ===\\nFollowing the Partition of India, the new state of Pakistan represented a geographical anomaly, with two ')]"
            ]
          },
          "metadata": {},
          "execution_count": 14
        }
      ]
    },
    {
      "cell_type": "code",
      "source": [
        "# Print retrieved content\n",
        "for i, doc in enumerate(docs):\n",
        "  print(f\"\\n--- Result {i+1} ---\")\n",
        "  print(f\"Content:\\n{doc.page_content}...\") # truncate for display"
      ],
      "metadata": {
        "colab": {
          "base_uri": "https://localhost:8080/"
        },
        "id": "Nf4CmDuckhwZ",
        "outputId": "ff8a9ba2-69fb-41d3-eda7-f906ecd9d4e9"
      },
      "execution_count": 15,
      "outputs": [
        {
          "output_type": "stream",
          "name": "stdout",
          "text": [
            "\n",
            "--- Result 1 ---\n",
            "Content:\n",
            "The history of Bangladesh (1971–present) refers to the period after the independence of Bangladesh from Pakistan.\n",
            "\n",
            "\n",
            "== 1972–80: Post-independence era ==\n",
            "\n",
            "\n",
            "=== Sheikh Mujibur Rahman administration ===\n",
            "\n",
            "Upon his release on 10 January 1972, Sheikh Mujibur Rahman briefly assumed the provisional presidency and later took office as the prime minister, heading all organs of government and decision-making. The politicians elected in 1970 formed the provisional parliament of the new state. The Mukti Bahini and other militias amalgamated to form a new Bangladeshi army to which Indian forces transferred control on 17 March. The government faced serious challenges, which including the rehabilitation of millions of people displaced in 1971, organising the supply of food, health aids and other necessities. The effects of the 1970 cyclone had not worn off, and the state's economy had immensely deteriorated by the conflict.\n",
            "Mujib helped Bangladesh enter into the United Nations and the Non-Aligned Movement. He travelled to the United States, the United Kingdom and other European nations to obtain humanitarian and developmental assistance for the nation. He signed a treaty of friendship with India, which pledged extensive economic and humanitarian assistance and began training Bangladesh's security forces and government personnel. Mujib forged a close friendship with Indira Gandhi, strongly praising India's decision to intercede, and professed admiration and friendship for India. Major efforts were launched to rehabilitate an estimated 10 million refugees. The economy began recovering and a famine was prevented. A constitution was proclaimed in 1972 and elections were held, which resulted in Mujib and his party gaining power with an absolute majority. He further outlined state programmes to expand primary education, sanitation, food, healthcare, water and electric supply across the country. A five-year plan released in 1973 focused state investments into agriculture, rural infrastructure and cottage industries.\n",
            "From March 1974 to December 1974, one of the deadliest famines of the 20th century occurred in Bangladesh, when it is estimated that anywhere between 27,000 and 1,500,000 people perished from starvation. The first widespread reports of this famine started to emerge in the March of 1974 and the price of rice climbed significantly, the Rangpur District of Bangladesh experienced the first signs of this famine.\n",
            "\n",
            "\n",
            "=== Left wing insurgency ===\n",
            "At the height of Sheikh Mujib's power, left wing insurgents, organised by Jatiyo Samajtantrik Dal's armed wing Gonobahini fought against the government of Sheikh Mujibur Rahman, to establish a Marxist government.\n",
            "The government responded by forming the Jatiya Rakkhi Bahini which began a campaign of brutal human rights abuses against the general populace, including the force became involved in numerous charges of human rights abuse including political killings, shooting by death squads, and rape. Members of Jatiya Rakkhi Bahini were granted immunity from prosecution and other legal proceedings.\n",
            "\n",
            "\n",
            "=== Bangladesh Krishak Sramik Awami League (BAKSAL) ===\n",
            "According to Abdur Razzaq, the 1974 famine profoundly affected Mujib's views on governance, while political unrest gave rise to increasing violence. During the famine, 70,000 people were reported as dead (Note: Reports vary). In response, he began increasing his powers. On 25 January 1975, Mujib declared a state of emergency and his political supporters approved a constitutional amendment banning all opposition political parties. Mujib assumed presidency and was given extraordinary powers. His political supporters amalgamated to form the only legalised political party, the Bangladesh Krishak Sramik Awami League, commonly known by its initials—BAKSAL. The party identified itself with the rural masses, farmers and labourers and took control of government machinery. It also launched major socialist programmes. Using government forces and a militia of supporters...\n",
            "\n",
            "--- Result 2 ---\n",
            "Content:\n",
            "The Bangladesh genocide was the ethnic cleansing of Bengalis residing in East Pakistan (now Bangladesh) during the Bangladesh Liberation War, perpetrated by the Pakistan Army and the Razakars. It began on 25 March 1971, as Operation Searchlight was launched by West Pakistan (now Pakistan) to militarily subdue the Bengali population of East Pakistan; the Bengalis comprised the demographic majority and had been calling for independence from the Pakistani state. Seeking to curtail the Bengali self-determination movement, erstwhile Pakistani president Yahya Khan approved a large-scale military deployment, and in the nine-month-long conflict that ensued, Pakistani soldiers and local pro-Pakistan militias killed between 300,000 and 3,000,000 Bengalis and raped between 200,000 and 400,000 Bengali women in a systematic campaign of mass murder and genocidal sexual violence. \n",
            "West Pakistanis in particular were shown by the news that the operation was carried out because of the 'rebellion by the East Pakistanis' and many activities at the time were hidden from them, including rape and ethnic cleansing of East Pakistanis by the Pakistani military. In their investigation of the genocide, the Geneva-based International Commission of Jurists concluded that Pakistan's campaign also involved the attempt to exterminate or forcibly remove a significant portion of the country's Hindu populace. Although the majority of the victims were Bengali Muslims, Hindus were especially targeted. The West Pakistani government, which had implemented discriminatory legislation in East Pakistan, asserted that Hindus were behind the Mukti Bahini (Bengali resistance fighters) revolt and that resolving the local \"Hindu problem\" would end the conflict—Khan's government and the Pakistani elite thus regarded the crackdown as a strategic policy. Genocidal rhetoric accompanied the campaign: Pakistani men believed that the sacrifice of Hindus was needed to fix the national malaise. In the countryside, Pakistan Army moved through villages and specifically asked for places where Hindus lived before burning them down. Hindus were identified by checking circumcision or by demanding the recitation of Muslim prayers. This also resulted in the migration of around eight million East Pakistani refugees into India, 80–90% of whom were Hindus.\n",
            "Both Muslim and Hindu women were targeted for rape. West Pakistani men wanted to cleanse a nation corrupted by the presence of Hindus and believed that the sacrifice of Hindu women was needed; Bengali women were thus viewed as Hindu or Hindu-like.\n",
            "Pakistan's activities during the Bangladesh Liberation War served as a catalyst for India's military intervention in support of the Mukti Bahini, triggering the Indo-Pakistani War of 1971. The conflict and the genocide formally ended on 16 December 1971, when the joint forces of Bangladesh and India received the Pakistani Instrument of Surrender. As a result of the conflict, approximately 10 million East Bengali refugees fled to Indian territory while up to 30 million people were internally displaced out of the 70 million total population of East Pakistan. There was also ethnic violence between the Bengali majority and the Bihari minority during the conflict; between 1,000 and 150,000 Biharis were killed in reprisal attacks by Bengali militias and mobs, as Bihari collaboration with the West Pakistani campaign had led to further anti-Bihari sentiment. Since Pakistan's defeat and Bangladesh's independence, the title \"Stranded Pakistanis in Bangladesh\" has commonly been used to refer to the Bihari community, which was denied the right to hold Bangladeshi citizenship until 2008.\n",
            "Allegations of a genocide in Bangladesh were rejected by most UN member states at the time and rarely appear in textbooks and academic sources on genocide studies.\n",
            "\n",
            "\n",
            "== Background ==\n",
            "\n",
            "\n",
            "=== West Pakistan and East Pakistan ===\n",
            "Following the Partition of India, the new state of Pakistan represented a geographical anomaly, with two ...\n"
          ]
        }
      ]
    }
  ]
}